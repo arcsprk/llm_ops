{
 "cells": [
  {
   "cell_type": "code",
   "execution_count": 1,
   "metadata": {},
   "outputs": [],
   "source": [
    "from ragas.testset.prompts import (\n",
    "    context_scoring_prompt,\n",
    "    evolution_elimination_prompt,\n",
    "    filter_question_prompt,\n",
    ")\n",
    "from langchain_community.document_loaders import DirectoryLoader\n",
    "from ragas.testset.generator import TestsetGenerator\n",
    "from ragas.testset.evolutions import simple, reasoning, multi_context"
   ]
  },
  {
   "cell_type": "markdown",
   "metadata": {},
   "source": [
    "### Interference server setting"
   ]
  },
  {
   "cell_type": "code",
   "execution_count": null,
   "metadata": {},
   "outputs": [],
   "source": [
    "##python -m vllm.entrypoints.openai.api_server --model explodinggradients/Ragas-critic-llm-Qwen1.5-GPTQ\n",
    "\n",
    "# inference_server_url = \"http://localhost:8000/v1\"\n",
    "# MODEL = \"explodinggradients/Ragas-critic-llm-Qwen1.5-GPTQ\"\n",
    "# chat = ChatOpenAI(\n",
    "#     model=MODEL,\n",
    "#     openai_api_key=\"token-abc123\",\n",
    "#     openai_api_base=inference_server_url,\n",
    "#     max_tokens=2048,\n",
    "#     temperature=0,\n",
    "# )"
   ]
  },
  {
   "cell_type": "code",
   "execution_count": null,
   "metadata": {},
   "outputs": [],
   "source": [
    "from langchain_community.chat_models import ChatOllama\n",
    "from langchain_community.embeddings import OllamaEmbeddings\n",
    "# from langchain_core.language_models import BaseLanguageModel\n",
    "# from langchain_core.embeddings import Embeddings\n",
    "\n",
    "\n",
    "# langchain_llm =  # any langchain LLM instance\n",
    "# langchain_embeddings = # any langchain Embeddings instance\n",
    "\n",
    "\n",
    "# langchain_llm = ChatOllama(model=\"llama3:latest\")\n",
    "# langchain_llm = ChatOllama(base_url=\"http://localhost:11434\", model=\"phi3\", streaming=True)\n",
    "langchain_llm = ChatOllama(base_url=\"http://localhost:11434\", model=\"mistral\")\n",
    "langchain_embeddings = OllamaEmbeddings(base_url=\"http://localhost:11434\", model=\"mistral\")\n",
    "\n",
    "\n",
    "# langchain_llm.invoke(\"What is stock?\")\n",
    "# results = evaluate(metrics=[], llm=langchain_llm, embeddings=langchain_embeddings)\n"
   ]
  },
  {
   "cell_type": "code",
   "execution_count": 14,
   "metadata": {},
   "outputs": [
    {
     "data": {
      "application/vnd.jupyter.widget-view+json": {
       "model_id": "5c7511944f684a149b9f2a34e73d8f03",
       "version_major": 2,
       "version_minor": 0
      },
      "text/plain": [
       "Evaluating:   0%|          | 0/2 [00:00<?, ?it/s]"
      ]
     },
     "metadata": {},
     "output_type": "display_data"
    },
    {
     "data": {
      "text/html": [
       "<div>\n",
       "<style scoped>\n",
       "    .dataframe tbody tr th:only-of-type {\n",
       "        vertical-align: middle;\n",
       "    }\n",
       "\n",
       "    .dataframe tbody tr th {\n",
       "        vertical-align: top;\n",
       "    }\n",
       "\n",
       "    .dataframe thead th {\n",
       "        text-align: right;\n",
       "    }\n",
       "</style>\n",
       "<table border=\"1\" class=\"dataframe\">\n",
       "  <thead>\n",
       "    <tr style=\"text-align: right;\">\n",
       "      <th></th>\n",
       "      <th>question</th>\n",
       "      <th>answer</th>\n",
       "      <th>contexts</th>\n",
       "      <th>ground_truth</th>\n",
       "      <th>context_precision</th>\n",
       "    </tr>\n",
       "  </thead>\n",
       "  <tbody>\n",
       "    <tr>\n",
       "      <th>0</th>\n",
       "      <td>When was the first super bowl?</td>\n",
       "      <td>The first superbowl was held on Jan 15, 1967</td>\n",
       "      <td>[The First AFL–NFL World Championship Game was...</td>\n",
       "      <td>The first superbowl was held on January 15, 1967</td>\n",
       "      <td>1.0</td>\n",
       "    </tr>\n",
       "    <tr>\n",
       "      <th>1</th>\n",
       "      <td>Who won the most super bowls?</td>\n",
       "      <td>The most super bowls have been won by The New ...</td>\n",
       "      <td>[The Green Bay Packers...Green Bay, Wisconsin....</td>\n",
       "      <td>The New England Patriots have won the Super Bo...</td>\n",
       "      <td>0.5</td>\n",
       "    </tr>\n",
       "  </tbody>\n",
       "</table>\n",
       "</div>"
      ],
      "text/plain": [
       "                         question  \\\n",
       "0  When was the first super bowl?   \n",
       "1   Who won the most super bowls?   \n",
       "\n",
       "                                              answer  \\\n",
       "0       The first superbowl was held on Jan 15, 1967   \n",
       "1  The most super bowls have been won by The New ...   \n",
       "\n",
       "                                            contexts  \\\n",
       "0  [The First AFL–NFL World Championship Game was...   \n",
       "1  [The Green Bay Packers...Green Bay, Wisconsin....   \n",
       "\n",
       "                                        ground_truth  context_precision  \n",
       "0   The first superbowl was held on January 15, 1967                1.0  \n",
       "1  The New England Patriots have won the Super Bo...                0.5  "
      ]
     },
     "execution_count": 14,
     "metadata": {},
     "output_type": "execute_result"
    }
   ],
   "source": [
    "from datasets import Dataset \n",
    "from ragas.metrics import context_precision\n",
    "from ragas import evaluate\n",
    "\n",
    "data_samples = {\n",
    "    'question': ['When was the first super bowl?', 'Who won the most super bowls?'],\n",
    "    'answer': ['The first superbowl was held on Jan 15, 1967', 'The most super bowls have been won by The New England Patriots'],\n",
    "    'contexts' : [['The First AFL–NFL World Championship Game was an American football game played on January 15, 1967, at the Los Angeles Memorial Coliseum in Los Angeles,'], \n",
    "    ['The Green Bay Packers...Green Bay, Wisconsin.','The Packers compete...Football Conference']],\n",
    "    'ground_truth': ['The first superbowl was held on January 15, 1967', 'The New England Patriots have won the Super Bowl a record six times']\n",
    "}\n",
    "dataset = Dataset.from_dict(data_samples)\n",
    "# score = evaluate(dataset,metrics=[context_precision])\n",
    "score = evaluate(dataset, llm=langchain_llm, embeddings=langchain_embeddings, metrics=[context_precision])\n",
    "df_score = score.to_pandas()\n",
    "df_score"
   ]
  },
  {
   "cell_type": "code",
   "execution_count": 15,
   "metadata": {},
   "outputs": [
    {
     "data": {
      "text/html": [
       "<div>\n",
       "<style scoped>\n",
       "    .dataframe tbody tr th:only-of-type {\n",
       "        vertical-align: middle;\n",
       "    }\n",
       "\n",
       "    .dataframe tbody tr th {\n",
       "        vertical-align: top;\n",
       "    }\n",
       "\n",
       "    .dataframe thead th {\n",
       "        text-align: right;\n",
       "    }\n",
       "</style>\n",
       "<table border=\"1\" class=\"dataframe\">\n",
       "  <thead>\n",
       "    <tr style=\"text-align: right;\">\n",
       "      <th></th>\n",
       "      <th>question</th>\n",
       "      <th>answer</th>\n",
       "      <th>contexts</th>\n",
       "      <th>ground_truth</th>\n",
       "      <th>context_precision</th>\n",
       "    </tr>\n",
       "  </thead>\n",
       "  <tbody>\n",
       "    <tr>\n",
       "      <th>0</th>\n",
       "      <td>When was the first super bowl?</td>\n",
       "      <td>The first superbowl was held on Jan 15, 1967</td>\n",
       "      <td>[The First AFL–NFL World Championship Game was...</td>\n",
       "      <td>The first superbowl was held on January 15, 1967</td>\n",
       "      <td>1.0</td>\n",
       "    </tr>\n",
       "    <tr>\n",
       "      <th>1</th>\n",
       "      <td>Who won the most super bowls?</td>\n",
       "      <td>The most super bowls have been won by The New ...</td>\n",
       "      <td>[The Green Bay Packers...Green Bay, Wisconsin....</td>\n",
       "      <td>The New England Patriots have won the Super Bo...</td>\n",
       "      <td>0.5</td>\n",
       "    </tr>\n",
       "  </tbody>\n",
       "</table>\n",
       "</div>"
      ],
      "text/plain": [
       "                         question  \\\n",
       "0  When was the first super bowl?   \n",
       "1   Who won the most super bowls?   \n",
       "\n",
       "                                              answer  \\\n",
       "0       The first superbowl was held on Jan 15, 1967   \n",
       "1  The most super bowls have been won by The New ...   \n",
       "\n",
       "                                            contexts  \\\n",
       "0  [The First AFL–NFL World Championship Game was...   \n",
       "1  [The Green Bay Packers...Green Bay, Wisconsin....   \n",
       "\n",
       "                                        ground_truth  context_precision  \n",
       "0   The first superbowl was held on January 15, 1967                1.0  \n",
       "1  The New England Patriots have won the Super Bo...                0.5  "
      ]
     },
     "execution_count": 15,
     "metadata": {},
     "output_type": "execute_result"
    }
   ],
   "source": [
    "df_score"
   ]
  },
  {
   "cell_type": "markdown",
   "metadata": {},
   "source": [
    "### Generation of test data"
   ]
  },
  {
   "cell_type": "code",
   "execution_count": null,
   "metadata": {},
   "outputs": [],
   "source": [
    "# remove demonstrations from examples\n",
    "for prompt in [\n",
    "    context_scoring_prompt,\n",
    "    evolution_elimination_prompt,\n",
    "    filter_question_prompt,\n",
    "]:\n",
    "    prompt.examples = []"
   ]
  },
  {
   "cell_type": "code",
   "execution_count": null,
   "metadata": {},
   "outputs": [],
   "source": [
    "from ragas.testset.filters import QuestionFilter, EvolutionFilter, NodeFilter\n",
    "\n",
    "\n",
    "from ragas.llms import LangchainLLMWrapper\n",
    "\n",
    "langchain_llm = LangchainLLMWrapper(chat)\n",
    "\n",
    "qa_filter = QuestionFilter(langchain_llm, filter_question_prompt)\n",
    "node_filter = NodeFilter(langchain_llm, context_scoring_prompt=context_scoring_prompt)\n",
    "evolution_filter = EvolutionFilter(langchain_llm, evolution_elimination_prompt)"
   ]
  },
  {
   "cell_type": "code",
   "execution_count": null,
   "metadata": {},
   "outputs": [],
   "source": [
    "distributions = {simple: 0.5, reasoning: 0.25, multi_context: 0.25}"
   ]
  },
  {
   "cell_type": "code",
   "execution_count": null,
   "metadata": {},
   "outputs": [],
   "source": [
    "# customise the filters\n",
    "from ragas.testset.evolutions import ComplexEvolution\n",
    "\n",
    "for evolution in distributions:\n",
    "    if evolution.question_filter is None:\n",
    "        evolution.question_filter = qa_filter\n",
    "    if evolution.node_filter is None:\n",
    "        evolution.node_filter = node_filter\n",
    "\n",
    "    if isinstance(evolution, ComplexEvolution):\n",
    "        if evolution.evolution_filter is None:\n",
    "            evolution.evolution_filter = evolution_filter"
   ]
  },
  {
   "cell_type": "code",
   "execution_count": null,
   "metadata": {},
   "outputs": [],
   "source": []
  },
  {
   "cell_type": "code",
   "execution_count": 4,
   "metadata": {},
   "outputs": [],
   "source": [
    "\n"
   ]
  },
  {
   "cell_type": "code",
   "execution_count": null,
   "metadata": {},
   "outputs": [],
   "source": []
  },
  {
   "cell_type": "code",
   "execution_count": null,
   "metadata": {},
   "outputs": [],
   "source": []
  },
  {
   "cell_type": "code",
   "execution_count": null,
   "metadata": {},
   "outputs": [],
   "source": []
  },
  {
   "cell_type": "code",
   "execution_count": null,
   "metadata": {},
   "outputs": [],
   "source": [
    "from renumics import spotlight\n",
    "\n",
    "spotlight.show(df, dtype={\"image\": spotlight.Image, \"embedding\": spotlight.Embedding})"
   ]
  },
  {
   "cell_type": "code",
   "execution_count": 16,
   "metadata": {},
   "outputs": [
    {
     "name": "stderr",
     "output_type": "stream",
     "text": [
      "\u001b[32m2024-07-31 02:46:34.080\u001b[0m | \u001b[33m\u001b[1mWARNING \u001b[0m | \u001b[36mrenumics.spotlight.analysis.analyzers.cleanlab\u001b[0m:\u001b[36m<module>\u001b[0m:\u001b[36m20\u001b[0m - \u001b[33m\u001b[1mCleanlab analyzer requires `cleanlab` to be installed.\u001b[0m\n",
      "\u001b[32m2024-07-31 02:46:34.081\u001b[0m | \u001b[33m\u001b[1mWARNING \u001b[0m | \u001b[36mrenumics.spotlight.analysis.analyzers.cleanvision\u001b[0m:\u001b[36m<module>\u001b[0m:\u001b[36m24\u001b[0m - \u001b[33m\u001b[1mCleanvision analyzer requires `cleanvision` to be installed.\u001b[0m\n",
      "None of PyTorch, TensorFlow >= 2.0, or Flax have been found. Models won't be available and only tokenizers, configuration and file/data utilities can be used.\n"
     ]
    },
    {
     "data": {
      "application/vnd.jupyter.widget-view+json": {
       "model_id": "124987657da2480aa21ed5f63fe15bdd",
       "version_major": 2,
       "version_minor": 0
      },
      "text/plain": [
       "VBox(children=(Label(value='Spotlight running on http://127.0.0.1:46023/'), HBox(children=(Button(description=…"
      ]
     },
     "metadata": {},
     "output_type": "display_data"
    }
   ],
   "source": [
    "import pandas as pd\n",
    "from renumics import spotlight\n",
    "\n",
    "# df = df_score.copy()\n",
    "df = pd.read_csv(\"https://renumics.com/data/mnist/mnist-tiny.csv\")\n",
    "spotlight.show(df, dtype={\"image\": spotlight.Image})"
   ]
  },
  {
   "cell_type": "code",
   "execution_count": 17,
   "metadata": {},
   "outputs": [
    {
     "data": {
      "text/html": [
       "<div>\n",
       "<style scoped>\n",
       "    .dataframe tbody tr th:only-of-type {\n",
       "        vertical-align: middle;\n",
       "    }\n",
       "\n",
       "    .dataframe tbody tr th {\n",
       "        vertical-align: top;\n",
       "    }\n",
       "\n",
       "    .dataframe thead th {\n",
       "        text-align: right;\n",
       "    }\n",
       "</style>\n",
       "<table border=\"1\" class=\"dataframe\">\n",
       "  <thead>\n",
       "    <tr style=\"text-align: right;\">\n",
       "      <th></th>\n",
       "      <th>question</th>\n",
       "      <th>answer</th>\n",
       "      <th>contexts</th>\n",
       "      <th>ground_truth</th>\n",
       "      <th>context_precision</th>\n",
       "    </tr>\n",
       "  </thead>\n",
       "  <tbody>\n",
       "    <tr>\n",
       "      <th>0</th>\n",
       "      <td>When was the first super bowl?</td>\n",
       "      <td>The first superbowl was held on Jan 15, 1967</td>\n",
       "      <td>[The First AFL–NFL World Championship Game was...</td>\n",
       "      <td>The first superbowl was held on January 15, 1967</td>\n",
       "      <td>1.0</td>\n",
       "    </tr>\n",
       "    <tr>\n",
       "      <th>1</th>\n",
       "      <td>Who won the most super bowls?</td>\n",
       "      <td>The most super bowls have been won by The New ...</td>\n",
       "      <td>[The Green Bay Packers...Green Bay, Wisconsin....</td>\n",
       "      <td>The New England Patriots have won the Super Bo...</td>\n",
       "      <td>0.5</td>\n",
       "    </tr>\n",
       "  </tbody>\n",
       "</table>\n",
       "</div>"
      ],
      "text/plain": [
       "                         question  \\\n",
       "0  When was the first super bowl?   \n",
       "1   Who won the most super bowls?   \n",
       "\n",
       "                                              answer  \\\n",
       "0       The first superbowl was held on Jan 15, 1967   \n",
       "1  The most super bowls have been won by The New ...   \n",
       "\n",
       "                                            contexts  \\\n",
       "0  [The First AFL–NFL World Championship Game was...   \n",
       "1  [The Green Bay Packers...Green Bay, Wisconsin....   \n",
       "\n",
       "                                        ground_truth  context_precision  \n",
       "0   The first superbowl was held on January 15, 1967                1.0  \n",
       "1  The New England Patriots have won the Super Bo...                0.5  "
      ]
     },
     "execution_count": 17,
     "metadata": {},
     "output_type": "execute_result"
    }
   ],
   "source": [
    "df"
   ]
  },
  {
   "cell_type": "code",
   "execution_count": null,
   "metadata": {},
   "outputs": [],
   "source": []
  }
 ],
 "metadata": {
  "kernelspec": {
   "display_name": "env_llm_ops",
   "language": "python",
   "name": "python3"
  },
  "language_info": {
   "codemirror_mode": {
    "name": "ipython",
    "version": 3
   },
   "file_extension": ".py",
   "mimetype": "text/x-python",
   "name": "python",
   "nbconvert_exporter": "python",
   "pygments_lexer": "ipython3",
   "version": "3.10.12"
  }
 },
 "nbformat": 4,
 "nbformat_minor": 2
}
