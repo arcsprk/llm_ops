{
 "cells": [
  {
   "cell_type": "code",
   "execution_count": 1,
   "metadata": {},
   "outputs": [],
   "source": [
    "import pandas"
   ]
  },
  {
   "cell_type": "code",
   "execution_count": 11,
   "metadata": {},
   "outputs": [],
   "source": [
    "\n",
    "def insert_separator(text, target_word, separator, capture_only_seperate_word=True):\n",
    "    result = []\n",
    "    if capture_only_seperate_word:\n",
    "        ## This case capture only \"... target_word ...\" not \"... [other characters]target_word[other characters] ...\"\n",
    "        words = text.split()\n",
    "        for word in words:\n",
    "            if word == target_word:\n",
    "                result.append(f\"\\n{separator}{word}\\n\")\n",
    "            else:\n",
    "                result.append(word)\n",
    "        return ' '.join(result)   \n",
    "\n",
    "    else:     \n",
    "        index = 0\n",
    "        while index < len(text):\n",
    "            if text[index:].startswith(target_word):\n",
    "                result.append(f\"\\n{separator}{target_word}\")\n",
    "                index += len(target_word)\n",
    "                # 조사나 다른 문자가 붙어있는지 확인\n",
    "                while index < len(text) and not text[index].isspace():\n",
    "                    result.append(text[index])\n",
    "                    index += 1\n",
    "                result.append(\"\\n\")\n",
    "            else:\n",
    "                result.append(text[index])\n",
    "                index += 1\n",
    "        return ''.join(result)\n",
    "\n",
    "\n",
    "\n"
   ]
  },
  {
   "cell_type": "code",
   "execution_count": 12,
   "metadata": {},
   "outputs": [
    {
     "name": "stdout",
     "output_type": "stream",
     "text": [
      "안녕하세요 \n",
      ">>>파이썬\n",
      " 프로그래밍은 재미있습니다 \n",
      ">>>파이썬은\n",
      " 강력합니다\n"
     ]
    }
   ],
   "source": [
    "\n",
    "original_text = \"안녕하세요 파이썬 프로그래밍은 재미있습니다 파이썬은 강력합니다\"\n",
    "target = \"파이썬\"\n",
    "separator = \">>>\"\n",
    "\n",
    "modified_text = insert_separator(original_text, target, separator)\n",
    "print(modified_text)"
   ]
  },
  {
   "cell_type": "code",
   "execution_count": null,
   "metadata": {},
   "outputs": [],
   "source": []
  }
 ],
 "metadata": {
  "kernelspec": {
   "display_name": "env_eda",
   "language": "python",
   "name": "python3"
  },
  "language_info": {
   "codemirror_mode": {
    "name": "ipython",
    "version": 3
   },
   "file_extension": ".py",
   "mimetype": "text/x-python",
   "name": "python",
   "nbconvert_exporter": "python",
   "pygments_lexer": "ipython3",
   "version": "3.10.12"
  }
 },
 "nbformat": 4,
 "nbformat_minor": 2
}
