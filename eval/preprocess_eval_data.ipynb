{
 "cells": [
  {
   "cell_type": "code",
   "execution_count": 38,
   "metadata": {},
   "outputs": [],
   "source": [
    "import pandas\n",
    "import ast"
   ]
  },
  {
   "cell_type": "code",
   "execution_count": 13,
   "metadata": {},
   "outputs": [],
   "source": [
    "\n",
    "def insert_separator(text, target_word, separator, capture_only_seperate_word=True):\n",
    "    result = []\n",
    "    if capture_only_seperate_word:\n",
    "        ## This case capture only \"... target_word ...\" not \"... [other characters]target_word[other characters] ...\"\n",
    "        words = text.split()\n",
    "        for word in words:\n",
    "            if word == target_word:\n",
    "                result.append(f\"\\n{separator}{word}\\n\")\n",
    "            else:\n",
    "                result.append(word)\n",
    "        return ' '.join(result)   \n",
    "\n",
    "    else:     \n",
    "        index = 0\n",
    "        while index < len(text):\n",
    "            if text[index:].startswith(target_word):\n",
    "                result.append(f\"\\n{separator}{target_word}\")\n",
    "                index += len(target_word)\n",
    "                # 조사나 다른 문자가 붙어있는지 확인\n",
    "                while index < len(text) and not text[index].isspace():\n",
    "                    result.append(text[index])\n",
    "                    index += 1\n",
    "                result.append(\"\\n\")\n",
    "            else:\n",
    "                result.append(text[index])\n",
    "                index += 1\n",
    "        return ''.join(result)\n",
    "\n",
    "\n",
    "\n"
   ]
  },
  {
   "cell_type": "code",
   "execution_count": 14,
   "metadata": {},
   "outputs": [
    {
     "name": "stdout",
     "output_type": "stream",
     "text": [
      "안녕하세요 \n",
      ">>>파이썬\n",
      " 프로그래밍은 재미있습니다 파이썬은 강력합니다\n"
     ]
    }
   ],
   "source": [
    "\n",
    "original_text = \"안녕하세요 파이썬 프로그래밍은 재미있습니다 파이썬은 강력합니다\"\n",
    "target = \"파이썬\"\n",
    "separator = \">>>\"\n",
    "\n",
    "modified_text = insert_separator(original_text, target, separator)\n",
    "print(modified_text)"
   ]
  },
  {
   "cell_type": "code",
   "execution_count": 19,
   "metadata": {},
   "outputs": [],
   "source": [
    "import pandas as pd\n",
    "import re\n",
    "\n",
    "def extract_types(context):\n",
    "    # 정규 표현식을 사용하여 'type' 값을 추출\n",
    "    types = re.findall(r\"'type'\\s*:\\s*'(\\w+)'\", context)\n",
    "    return types\n",
    "\n"
   ]
  },
  {
   "cell_type": "code",
   "execution_count": 20,
   "metadata": {},
   "outputs": [
    {
     "name": "stdout",
     "output_type": "stream",
     "text": [
      "0    [aaa, bbb, ccc]\n",
      "Name: extracted_types, dtype: object\n"
     ]
    }
   ],
   "source": [
    "\n",
    "# 예시 DataFrame 생성\n",
    "df = pd.DataFrame({\n",
    "    'context': [\n",
    "        \"[{'type':'aaa', 'text':'Content: Question: kllkllbbaa kflalf  Response: ffaff \\n Content:  Question: fffa Response: ffkkkbb'},  {'type':'bbb', 'text':'Content: Question: kllkllbbaa kflalf  Response: ffaff \\n Content:  Question: fffa Response: ffkkkbb'}, ,  {'type':'ccc', 'text':'Page Content: fffkllbbaa kflalf  Response: ffaff \\n Page Content:  fddfkkkbb'}]\"\n",
    "    ]\n",
    "})\n",
    "\n",
    "# 'context' 열에서 type 리스트 추출\n",
    "df['extracted_types'] = df['context'].apply(extract_types)\n",
    "\n",
    "print(df['extracted_types'])"
   ]
  },
  {
   "cell_type": "code",
   "execution_count": 21,
   "metadata": {},
   "outputs": [],
   "source": [
    "import pandas as pd\n",
    "import re\n",
    "\n",
    "def count_keywords(text, keywords):\n",
    "    counts = {keyword: 0 for keyword in keywords}\n",
    "    for keyword in keywords:\n",
    "        counts[keyword] = len(re.findall(re.escape(keyword), text))\n",
    "    return counts\n",
    "\n"
   ]
  },
  {
   "cell_type": "code",
   "execution_count": 22,
   "metadata": {},
   "outputs": [
    {
     "name": "stdout",
     "output_type": "stream",
     "text": [
      "                                             context  \\\n",
      "0  [{'type':'aaa', 'text':'Content: Question: kll...   \n",
      "1  [{'type':'ddd', 'text':'Page Content: abcdef \\...   \n",
      "\n",
      "                      keyword_counts  \n",
      "0  {'Content': 6, 'Page Content': 2}  \n",
      "1  {'Content': 2, 'Page Content': 1}  \n",
      "                                             context  \\\n",
      "0  [{'type':'aaa', 'text':'Content: Question: kll...   \n",
      "1  [{'type':'ddd', 'text':'Page Content: abcdef \\...   \n",
      "\n",
      "                      keyword_counts  Content_count  Page Content_count  \n",
      "0  {'Content': 6, 'Page Content': 2}              6                   2  \n",
      "1  {'Content': 2, 'Page Content': 1}              2                   1  \n"
     ]
    }
   ],
   "source": [
    "# 키워드 목록 설정 (이 부분은 필요에 따라 수정 가능합니다)\n",
    "keywords = ['Content', 'Page Content']\n",
    "\n",
    "# 예시 DataFrame 생성\n",
    "df = pd.DataFrame({\n",
    "    'context': [\n",
    "        \"[{'type':'aaa', 'text':'Content: Question: kllkllbbaa kflalf  Response: ffaff \\n Content:  Question: fffa Response: ffkkkbb'},  {'type':'bbb', 'text':'Content: Question: kllkllbbaa kflalf  Response: ffaff \\n Content:  Question: fffa Response: ffkkkbb'}, ,  {'type':'ccc', 'text':'Page Content: fffkllbbaa kflalf  Response: ffaff \\n Page Content:  fddfkkkbb'}]\",\n",
    "        \"[{'type':'ddd', 'text':'Page Content: abcdef \\n Content: ghijkl'}]\"\n",
    "    ]\n",
    "})\n",
    "\n",
    "# 각 행의 'context' 열에서 키워드 카운트\n",
    "df['keyword_counts'] = df['context'].apply(lambda x: count_keywords(x, keywords))\n",
    "\n",
    "# 결과 출력\n",
    "print(df[['context', 'keyword_counts']])\n",
    "\n",
    "# 키워드별로 별도의 열 생성 (선택사항)\n",
    "for keyword in keywords:\n",
    "    df[f'{keyword}_count'] = df['keyword_counts'].apply(lambda x: x[keyword])\n",
    "\n",
    "print(df)"
   ]
  },
  {
   "cell_type": "code",
   "execution_count": null,
   "metadata": {},
   "outputs": [],
   "source": [
    "10"
   ]
  },
  {
   "cell_type": "code",
   "execution_count": 23,
   "metadata": {},
   "outputs": [
    {
     "data": {
      "text/html": [
       "<div>\n",
       "<style scoped>\n",
       "    .dataframe tbody tr th:only-of-type {\n",
       "        vertical-align: middle;\n",
       "    }\n",
       "\n",
       "    .dataframe tbody tr th {\n",
       "        vertical-align: top;\n",
       "    }\n",
       "\n",
       "    .dataframe thead th {\n",
       "        text-align: right;\n",
       "    }\n",
       "</style>\n",
       "<table border=\"1\" class=\"dataframe\">\n",
       "  <thead>\n",
       "    <tr style=\"text-align: right;\">\n",
       "      <th></th>\n",
       "      <th>context</th>\n",
       "      <th>keyword_counts</th>\n",
       "      <th>Content_count</th>\n",
       "      <th>Page Content_count</th>\n",
       "    </tr>\n",
       "  </thead>\n",
       "  <tbody>\n",
       "    <tr>\n",
       "      <th>0</th>\n",
       "      <td>[{'type':'aaa', 'text':'Content: Question: kll...</td>\n",
       "      <td>{'Content': 6, 'Page Content': 2}</td>\n",
       "      <td>6</td>\n",
       "      <td>2</td>\n",
       "    </tr>\n",
       "    <tr>\n",
       "      <th>1</th>\n",
       "      <td>[{'type':'ddd', 'text':'Page Content: abcdef \\...</td>\n",
       "      <td>{'Content': 2, 'Page Content': 1}</td>\n",
       "      <td>2</td>\n",
       "      <td>1</td>\n",
       "    </tr>\n",
       "  </tbody>\n",
       "</table>\n",
       "</div>"
      ],
      "text/plain": [
       "                                             context  \\\n",
       "0  [{'type':'aaa', 'text':'Content: Question: kll...   \n",
       "1  [{'type':'ddd', 'text':'Page Content: abcdef \\...   \n",
       "\n",
       "                      keyword_counts  Content_count  Page Content_count  \n",
       "0  {'Content': 6, 'Page Content': 2}              6                   2  \n",
       "1  {'Content': 2, 'Page Content': 1}              2                   1  "
      ]
     },
     "execution_count": 23,
     "metadata": {},
     "output_type": "execute_result"
    }
   ],
   "source": [
    "df"
   ]
  },
  {
   "cell_type": "code",
   "execution_count": null,
   "metadata": {},
   "outputs": [],
   "source": []
  },
  {
   "cell_type": "code",
   "execution_count": null,
   "metadata": {},
   "outputs": [],
   "source": []
  },
  {
   "cell_type": "code",
   "execution_count": 85,
   "metadata": {},
   "outputs": [],
   "source": [
    "def split_str_with_start_delimiter(target_str, delimiter_str):\n",
    "    output_list_str = []\n",
    "    \n",
    "    # 문자열의 시작부터 검색 시작\n",
    "    start = 0\n",
    "    while True:\n",
    "        # 구분자의 위치 찾기\n",
    "        index = target_str.find(delimiter_str, start)\n",
    "        \n",
    "        if index == -1:  # 구분자를 더 이상 찾을 수 없으면\n",
    "            # 남은 문자열을 리스트에 추가하고 종료\n",
    "            if start < len(target_str):\n",
    "                output_list_str.append(target_str[start:])\n",
    "            break\n",
    "        \n",
    "        # 구분자 이전의 문자열을 리스트에 추가 (비어있지 않은 경우)\n",
    "        if start < index:\n",
    "            output_list_str.append(target_str[start:index])\n",
    "        \n",
    "        # 다음 검색 시작 위치를 구분자 다음으로 이동\n",
    "        start = index + len(delimiter_str)\n",
    "    \n",
    "    return output_list_str\n",
    "\n",
    "def extract_list_context_from_target_str(target_str, delimiter_str):\n",
    "    ## example input: text:bbbbb...\n",
    "    list_context = split_str_with_start_delimiter(target_str, delimiter_str)[1:]\n",
    "    list_context = [context.strip() for context in list_context]\n",
    "\n",
    "    return list_context\n",
    "\n",
    "\n",
    "def extract_wholelist_context_from_contexts(contexts_str, context_type_key = 'type', context_text_key='text'):\n",
    "    ## example input (contexts_str): \"[{type:aaa, text:bbbbb...}, {type:aaa, text:bbbbb...}]\"\"\n",
    "    list_dict_context = ast.literal_eval(contexts_str)\n",
    "\n",
    "    list_whole_context = []\n",
    "\n",
    "    print(\"list_dict_context:\", list_dict_context)\n",
    "\n",
    "    for dict_context in list_dict_context:\n",
    "        print(\"dict_context:\", dict_context)\n",
    "        context_type = dict_context[context_type_key]\n",
    "        context_text = dict_context[context_text_key]\n",
    "        print(f\"context_type: {context_type}\")\n",
    "        print(f\"context_text: {context_text}\")\n",
    "        if context_type == 'aaa':\n",
    "            delimiter_str = 'Content:'\n",
    "        elif context_type == 'ccc':\n",
    "            delimiter_str = 'Page Content:'\n",
    "        else:\n",
    "            delimiter_str = 'Content:'\n",
    "        list_context = extract_list_context_from_target_str(context_text, delimiter_str)\n",
    "        # print(\"list_context:\", list_context)\n",
    "        list_whole_context.extend(list_context)\n",
    "\n",
    "    return list_whole_context\n"
   ]
  },
  {
   "cell_type": "code",
   "execution_count": 86,
   "metadata": {},
   "outputs": [
    {
     "data": {
      "text/plain": [
       "[{'type': 'aaa',\n",
       "  'text': 'Content: Question: kllkllbbaa kflalf \\n Response: ffaff Content:  Question: fffa Response: ffkkkbb'}]"
      ]
     },
     "execution_count": 86,
     "metadata": {},
     "output_type": "execute_result"
    }
   ],
   "source": [
    "input_str = \"[{'type':'aaa', 'text':'Content: Question: kllkllbbaa kflalf \\\\n Response: ffaff Content:  Question: fffa Response: ffkkkbb'}]\"\n",
    "\n",
    "ast.literal_eval(input_str)"
   ]
  },
  {
   "cell_type": "code",
   "execution_count": 87,
   "metadata": {},
   "outputs": [
    {
     "name": "stdout",
     "output_type": "stream",
     "text": [
      "list_dict_context: [{'type': 'aaa', 'text': 'Content: Question: kllkllbbaa kflalf  Response: ffaff \\n Content:  Question: fffa Response: ffkkkbb'}, {'type': 'bbb', 'text': 'Content: Question: kllkllbbaa kflalf  Response: ffaff \\n Content:  Question: fffa Response: ffkkkbb'}, {'type': 'ccc', 'text': 'Page Content: fffkllbbaa kflalf  Response: ffaff \\n Page Content:  fddfkkkbb'}]\n",
      "dict_context: {'type': 'aaa', 'text': 'Content: Question: kllkllbbaa kflalf  Response: ffaff \\n Content:  Question: fffa Response: ffkkkbb'}\n",
      "context_type: aaa\n",
      "context_text: Content: Question: kllkllbbaa kflalf  Response: ffaff \n",
      " Content:  Question: fffa Response: ffkkkbb\n",
      "dict_context: {'type': 'bbb', 'text': 'Content: Question: kllkllbbaa kflalf  Response: ffaff \\n Content:  Question: fffa Response: ffkkkbb'}\n",
      "context_type: bbb\n",
      "context_text: Content: Question: kllkllbbaa kflalf  Response: ffaff \n",
      " Content:  Question: fffa Response: ffkkkbb\n",
      "dict_context: {'type': 'ccc', 'text': 'Page Content: fffkllbbaa kflalf  Response: ffaff \\n Page Content:  fddfkkkbb'}\n",
      "context_type: ccc\n",
      "context_text: Page Content: fffkllbbaa kflalf  Response: ffaff \n",
      " Page Content:  fddfkkkbb\n"
     ]
    }
   ],
   "source": [
    "input_str = \"[{'type':'aaa', 'text':'Content: Question: kllkllbbaa kflalf  Response: ffaff \\\\n Content:  Question: fffa Response: ffkkkbb'},  {'type':'bbb', 'text':'Content: Question: kllkllbbaa kflalf  Response: ffaff \\\\n Content:  Question: fffa Response: ffkkkbb'}, {'type':'ccc', 'text':'Page Content: fffkllbbaa kflalf  Response: ffaff \\\\n Page Content:  fddfkkkbb'}]\"\n",
    "\n",
    "# input_str = \"[{'type':'aaa', 'text':'Content: Question: kllkllbbaa kflalf  Response: ffaff Content:  Question: fffa Response: ffkkkbb'}]\"\n",
    "\n",
    "# ast.literal_eval(input_str)\n",
    "\n",
    "# list_context = extract_list_context(input_str, 'Content:')\n",
    "\n",
    "list_context = extract_wholelist_context_from_contexts(input_str, context_type_key = 'type', context_text_key='text')"
   ]
  },
  {
   "cell_type": "code",
   "execution_count": 88,
   "metadata": {},
   "outputs": [
    {
     "data": {
      "text/plain": [
       "['Question: fffa Response: ffkkkbb',\n",
       " 'Question: fffa Response: ffkkkbb',\n",
       " 'fddfkkkbb']"
      ]
     },
     "execution_count": 88,
     "metadata": {},
     "output_type": "execute_result"
    }
   ],
   "source": [
    "list_context"
   ]
  },
  {
   "cell_type": "code",
   "execution_count": 47,
   "metadata": {},
   "outputs": [
    {
     "name": "stdout",
     "output_type": "stream",
     "text": [
      "\"This is a string with \"escaped\" quotes\"\n"
     ]
    }
   ],
   "source": [
    "import ast\n",
    "\n",
    "def convert_to_triple_quotes_ast(input_str):\n",
    "    try:\n",
    "        # 문자열 내용 평가\n",
    "        content = ast.literal_eval(input_str)\n",
    "        # 삼중 따옴표로 감싸기\n",
    "        return f'''{content}'''\n",
    "    except (SyntaxError, ValueError):\n",
    "        # 평가 실패 시 원래 문자열 반환\n",
    "        return input_str\n",
    "\n",
    "# 예시 사용\n",
    "original_str = '\"This is a string with \"escaped\" quotes\"'\n",
    "converted_str = convert_to_triple_quotes_ast(original_str)\n",
    "print(converted_str)"
   ]
  },
  {
   "cell_type": "code",
   "execution_count": 48,
   "metadata": {},
   "outputs": [
    {
     "data": {
      "text/plain": [
       "\"[{'type':'aaa', 'text':'Content: Question: kllkllbbaa kflalf  Response: ffaff \\n Content:  Question: fffa Response: ffkkkbb'},  {'type':'bbb', 'text':'Content: Question: kllkllbbaa kflalf  Response: ffaff \\n Content:  Question: fffa Response: ffkkkbb'}, {'type':'ccc', 'text':'Page Content: fffkllbbaa kflalf  Response: ffaff \\n Page Content:  fddfkkkbb'}]\""
      ]
     },
     "execution_count": 48,
     "metadata": {},
     "output_type": "execute_result"
    }
   ],
   "source": [
    "convert_to_triple_quotes_ast(input_str)"
   ]
  },
  {
   "cell_type": "code",
   "execution_count": 43,
   "metadata": {},
   "outputs": [
    {
     "ename": "SyntaxError",
     "evalue": "unterminated string literal (detected at line 1) (<unknown>, line 1)",
     "output_type": "error",
     "traceback": [
      "Traceback \u001b[0;36m(most recent call last)\u001b[0m:\n",
      "\u001b[0m  File \u001b[1;32m~/workspace/project/eda/env_eda/lib/python3.10/site-packages/IPython/core/interactiveshell.py:3577\u001b[0m in \u001b[1;35mrun_code\u001b[0m\n    exec(code_obj, self.user_global_ns, self.user_ns)\u001b[0m\n",
      "\u001b[0m  Cell \u001b[1;32mIn[43], line 1\u001b[0m\n    list_context = extract_wholelist_context_from_contexts(convert_to_triple_quotes_ast(input_str), context_type_key = 'type', context_text_key='text')\u001b[0m\n",
      "\u001b[0m  Cell \u001b[1;32mIn[39], line 35\u001b[0m in \u001b[1;35mextract_wholelist_context_from_contexts\u001b[0m\n    list_dict_context = ast.literal_eval(contexts_str)\u001b[0m\n",
      "\u001b[0m  File \u001b[1;32m/usr/lib/python3.10/ast.py:64\u001b[0m in \u001b[1;35mliteral_eval\u001b[0m\n    node_or_string = parse(node_or_string.lstrip(\" \\t\"), mode='eval')\u001b[0m\n",
      "\u001b[0;36m  File \u001b[0;32m/usr/lib/python3.10/ast.py:50\u001b[0;36m in \u001b[0;35mparse\u001b[0;36m\n\u001b[0;31m    return compile(source, filename, mode, flags,\u001b[0;36m\n",
      "\u001b[0;36m  File \u001b[0;32m<unknown>:1\u001b[0;36m\u001b[0m\n\u001b[0;31m    [{'type':'aaa', 'text':'Content: Question: kllkllbbaa kflalf  Response: ffaff\u001b[0m\n\u001b[0m                           ^\u001b[0m\n\u001b[0;31mSyntaxError\u001b[0m\u001b[0;31m:\u001b[0m unterminated string literal (detected at line 1)\n"
     ]
    }
   ],
   "source": [
    "\n",
    "list_context = extract_wholelist_context_from_contexts(convert_to_triple_quotes_ast(input_str), context_type_key = 'type', context_text_key='text')"
   ]
  },
  {
   "cell_type": "code",
   "execution_count": 37,
   "metadata": {},
   "outputs": [
    {
     "data": {
      "text/plain": [
       "['Question: kllkllbbaa kflalf  Response: ffaff',\n",
       " \"Question: fffa Response: ffkkkbb'},  {'type':'bbb', 'text':'\",\n",
       " 'Question: kllkllbbaa kflalf  Response: ffaff',\n",
       " \"Question: fffa Response: ffkkkbb'}, ,  {'type':'ccc', 'text':'Page\",\n",
       " 'fffkllbbaa kflalf  Response: ffaff \\n Page',\n",
       " \"fddfkkkbb'}]\"]"
      ]
     },
     "execution_count": 37,
     "metadata": {},
     "output_type": "execute_result"
    }
   ],
   "source": [
    "list_context"
   ]
  },
  {
   "cell_type": "code",
   "execution_count": 30,
   "metadata": {},
   "outputs": [
    {
     "data": {
      "text/plain": [
       "[' Question: kllkllbbaa kflalf  Response: ffaff \\n ',\n",
       " \"  Question: fffa Response: ffkkkbb'},  {'type':'bbb', 'text':'\",\n",
       " ' Question: kllkllbbaa kflalf  Response: ffaff \\n ',\n",
       " \"  Question: fffa Response: ffkkkbb'}, ,  {'type':'ccc', 'text':'Page \",\n",
       " ' fffkllbbaa kflalf  Response: ffaff \\n Page ',\n",
       " \"  fddfkkkbb'}]\"]"
      ]
     },
     "execution_count": 30,
     "metadata": {},
     "output_type": "execute_result"
    }
   ],
   "source": [
    "list_context\n"
   ]
  },
  {
   "cell_type": "code",
   "execution_count": null,
   "metadata": {},
   "outputs": [],
   "source": [
    "def extract_list_context(contexts):\n",
    "    \n"
   ]
  }
 ],
 "metadata": {
  "kernelspec": {
   "display_name": "env_eda",
   "language": "python",
   "name": "python3"
  },
  "language_info": {
   "codemirror_mode": {
    "name": "ipython",
    "version": 3
   },
   "file_extension": ".py",
   "mimetype": "text/x-python",
   "name": "python",
   "nbconvert_exporter": "python",
   "pygments_lexer": "ipython3",
   "version": "3.10.12"
  }
 },
 "nbformat": 4,
 "nbformat_minor": 2
}
