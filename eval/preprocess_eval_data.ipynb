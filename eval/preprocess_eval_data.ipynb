{
 "cells": [
  {
   "cell_type": "code",
   "execution_count": 1,
   "metadata": {},
   "outputs": [],
   "source": [
    "import pandas"
   ]
  },
  {
   "cell_type": "code",
   "execution_count": 13,
   "metadata": {},
   "outputs": [],
   "source": [
    "\n",
    "def insert_separator(text, target_word, separator, capture_only_seperate_word=True):\n",
    "    result = []\n",
    "    if capture_only_seperate_word:\n",
    "        ## This case capture only \"... target_word ...\" not \"... [other characters]target_word[other characters] ...\"\n",
    "        words = text.split()\n",
    "        for word in words:\n",
    "            if word == target_word:\n",
    "                result.append(f\"\\n{separator}{word}\\n\")\n",
    "            else:\n",
    "                result.append(word)\n",
    "        return ' '.join(result)   \n",
    "\n",
    "    else:     \n",
    "        index = 0\n",
    "        while index < len(text):\n",
    "            if text[index:].startswith(target_word):\n",
    "                result.append(f\"\\n{separator}{target_word}\")\n",
    "                index += len(target_word)\n",
    "                # 조사나 다른 문자가 붙어있는지 확인\n",
    "                while index < len(text) and not text[index].isspace():\n",
    "                    result.append(text[index])\n",
    "                    index += 1\n",
    "                result.append(\"\\n\")\n",
    "            else:\n",
    "                result.append(text[index])\n",
    "                index += 1\n",
    "        return ''.join(result)\n",
    "\n",
    "\n",
    "\n"
   ]
  },
  {
   "cell_type": "code",
   "execution_count": 14,
   "metadata": {},
   "outputs": [
    {
     "name": "stdout",
     "output_type": "stream",
     "text": [
      "안녕하세요 \n",
      ">>>파이썬\n",
      " 프로그래밍은 재미있습니다 파이썬은 강력합니다\n"
     ]
    }
   ],
   "source": [
    "\n",
    "original_text = \"안녕하세요 파이썬 프로그래밍은 재미있습니다 파이썬은 강력합니다\"\n",
    "target = \"파이썬\"\n",
    "separator = \">>>\"\n",
    "\n",
    "modified_text = insert_separator(original_text, target, separator)\n",
    "print(modified_text)"
   ]
  },
  {
   "cell_type": "code",
   "execution_count": 19,
   "metadata": {},
   "outputs": [],
   "source": [
    "import pandas as pd\n",
    "import re\n",
    "\n",
    "def extract_types(context):\n",
    "    # 정규 표현식을 사용하여 'type' 값을 추출\n",
    "    types = re.findall(r\"'type'\\s*:\\s*'(\\w+)'\", context)\n",
    "    return types\n",
    "\n"
   ]
  },
  {
   "cell_type": "code",
   "execution_count": 20,
   "metadata": {},
   "outputs": [
    {
     "name": "stdout",
     "output_type": "stream",
     "text": [
      "0    [aaa, bbb, ccc]\n",
      "Name: extracted_types, dtype: object\n"
     ]
    }
   ],
   "source": [
    "\n",
    "# 예시 DataFrame 생성\n",
    "df = pd.DataFrame({\n",
    "    'context': [\n",
    "        \"[{'type':'aaa', 'text':'Content: Question: kllkllbbaa kflalf  Response: ffaff \\n Content:  Question: fffa Response: ffkkkbb'},  {'type':'bbb', 'text':'Content: Question: kllkllbbaa kflalf  Response: ffaff \\n Content:  Question: fffa Response: ffkkkbb'}, ,  {'type':'ccc', 'text':'Page Content: fffkllbbaa kflalf  Response: ffaff \\n Page Content:  fddfkkkbb'}]\"\n",
    "    ]\n",
    "})\n",
    "\n",
    "# 'context' 열에서 type 리스트 추출\n",
    "df['extracted_types'] = df['context'].apply(extract_types)\n",
    "\n",
    "print(df['extracted_types'])"
   ]
  },
  {
   "cell_type": "code",
   "execution_count": 21,
   "metadata": {},
   "outputs": [],
   "source": [
    "import pandas as pd\n",
    "import re\n",
    "\n",
    "def count_keywords(text, keywords):\n",
    "    counts = {keyword: 0 for keyword in keywords}\n",
    "    for keyword in keywords:\n",
    "        counts[keyword] = len(re.findall(re.escape(keyword), text))\n",
    "    return counts\n",
    "\n"
   ]
  },
  {
   "cell_type": "code",
   "execution_count": 22,
   "metadata": {},
   "outputs": [
    {
     "name": "stdout",
     "output_type": "stream",
     "text": [
      "                                             context  \\\n",
      "0  [{'type':'aaa', 'text':'Content: Question: kll...   \n",
      "1  [{'type':'ddd', 'text':'Page Content: abcdef \\...   \n",
      "\n",
      "                      keyword_counts  \n",
      "0  {'Content': 6, 'Page Content': 2}  \n",
      "1  {'Content': 2, 'Page Content': 1}  \n",
      "                                             context  \\\n",
      "0  [{'type':'aaa', 'text':'Content: Question: kll...   \n",
      "1  [{'type':'ddd', 'text':'Page Content: abcdef \\...   \n",
      "\n",
      "                      keyword_counts  Content_count  Page Content_count  \n",
      "0  {'Content': 6, 'Page Content': 2}              6                   2  \n",
      "1  {'Content': 2, 'Page Content': 1}              2                   1  \n"
     ]
    }
   ],
   "source": [
    "# 키워드 목록 설정 (이 부분은 필요에 따라 수정 가능합니다)\n",
    "keywords = ['Content', 'Page Content']\n",
    "\n",
    "# 예시 DataFrame 생성\n",
    "df = pd.DataFrame({\n",
    "    'context': [\n",
    "        \"[{'type':'aaa', 'text':'Content: Question: kllkllbbaa kflalf  Response: ffaff \\n Content:  Question: fffa Response: ffkkkbb'},  {'type':'bbb', 'text':'Content: Question: kllkllbbaa kflalf  Response: ffaff \\n Content:  Question: fffa Response: ffkkkbb'}, ,  {'type':'ccc', 'text':'Page Content: fffkllbbaa kflalf  Response: ffaff \\n Page Content:  fddfkkkbb'}]\",\n",
    "        \"[{'type':'ddd', 'text':'Page Content: abcdef \\n Content: ghijkl'}]\"\n",
    "    ]\n",
    "})\n",
    "\n",
    "# 각 행의 'context' 열에서 키워드 카운트\n",
    "df['keyword_counts'] = df['context'].apply(lambda x: count_keywords(x, keywords))\n",
    "\n",
    "# 결과 출력\n",
    "print(df[['context', 'keyword_counts']])\n",
    "\n",
    "# 키워드별로 별도의 열 생성 (선택사항)\n",
    "for keyword in keywords:\n",
    "    df[f'{keyword}_count'] = df['keyword_counts'].apply(lambda x: x[keyword])\n",
    "\n",
    "print(df)"
   ]
  },
  {
   "cell_type": "code",
   "execution_count": 23,
   "metadata": {},
   "outputs": [
    {
     "data": {
      "text/html": [
       "<div>\n",
       "<style scoped>\n",
       "    .dataframe tbody tr th:only-of-type {\n",
       "        vertical-align: middle;\n",
       "    }\n",
       "\n",
       "    .dataframe tbody tr th {\n",
       "        vertical-align: top;\n",
       "    }\n",
       "\n",
       "    .dataframe thead th {\n",
       "        text-align: right;\n",
       "    }\n",
       "</style>\n",
       "<table border=\"1\" class=\"dataframe\">\n",
       "  <thead>\n",
       "    <tr style=\"text-align: right;\">\n",
       "      <th></th>\n",
       "      <th>context</th>\n",
       "      <th>keyword_counts</th>\n",
       "      <th>Content_count</th>\n",
       "      <th>Page Content_count</th>\n",
       "    </tr>\n",
       "  </thead>\n",
       "  <tbody>\n",
       "    <tr>\n",
       "      <th>0</th>\n",
       "      <td>[{'type':'aaa', 'text':'Content: Question: kll...</td>\n",
       "      <td>{'Content': 6, 'Page Content': 2}</td>\n",
       "      <td>6</td>\n",
       "      <td>2</td>\n",
       "    </tr>\n",
       "    <tr>\n",
       "      <th>1</th>\n",
       "      <td>[{'type':'ddd', 'text':'Page Content: abcdef \\...</td>\n",
       "      <td>{'Content': 2, 'Page Content': 1}</td>\n",
       "      <td>2</td>\n",
       "      <td>1</td>\n",
       "    </tr>\n",
       "  </tbody>\n",
       "</table>\n",
       "</div>"
      ],
      "text/plain": [
       "                                             context  \\\n",
       "0  [{'type':'aaa', 'text':'Content: Question: kll...   \n",
       "1  [{'type':'ddd', 'text':'Page Content: abcdef \\...   \n",
       "\n",
       "                      keyword_counts  Content_count  Page Content_count  \n",
       "0  {'Content': 6, 'Page Content': 2}              6                   2  \n",
       "1  {'Content': 2, 'Page Content': 1}              2                   1  "
      ]
     },
     "execution_count": 23,
     "metadata": {},
     "output_type": "execute_result"
    }
   ],
   "source": [
    "df"
   ]
  },
  {
   "cell_type": "code",
   "execution_count": null,
   "metadata": {},
   "outputs": [],
   "source": []
  }
 ],
 "metadata": {
  "kernelspec": {
   "display_name": "env_eda",
   "language": "python",
   "name": "python3"
  },
  "language_info": {
   "codemirror_mode": {
    "name": "ipython",
    "version": 3
   },
   "file_extension": ".py",
   "mimetype": "text/x-python",
   "name": "python",
   "nbconvert_exporter": "python",
   "pygments_lexer": "ipython3",
   "version": "3.10.12"
  }
 },
 "nbformat": 4,
 "nbformat_minor": 2
}
